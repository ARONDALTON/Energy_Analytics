{
 "cells": [
  {
   "cell_type": "code",
   "execution_count": 47,
   "metadata": {},
   "outputs": [],
   "source": [
    "import pandas as pd\n",
    "import configparser\n",
    "import matplotlib.pyplot as plt\n",
    "%matplotlib inline\n",
    "\n",
    "from Influx_Dataframe_Client import Influx_Dataframe_Client\n",
    "from Energy_Analytics import Wrapper"
   ]
  },
  {
   "cell_type": "markdown",
   "metadata": {},
   "source": [
    "# Data Sources"
   ]
  },
  {
   "cell_type": "markdown",
   "metadata": {},
   "source": [
    "## csv files"
   ]
  },
  {
   "cell_type": "code",
   "execution_count": 48,
   "metadata": {
    "scrolled": false
   },
   "outputs": [],
   "source": [
    "# main_obj = Wrapper()\n",
    "# main_obj.read_json(file_name='input_csv.json')\n",
    "# main_obj.search(file_name='input_csv.json')"
   ]
  },
  {
   "cell_type": "code",
   "execution_count": 49,
   "metadata": {},
   "outputs": [
    {
     "ename": "TypeError",
     "evalue": "'module' object is not callable",
     "output_type": "error",
     "traceback": [
      "\u001b[0;31m---------------------------------------------------------------------------\u001b[0m",
      "\u001b[0;31mTypeError\u001b[0m                                 Traceback (most recent call last)",
      "\u001b[0;32m<ipython-input-49-3f40deea548d>\u001b[0m in \u001b[0;36m<module>\u001b[0;34m()\u001b[0m\n\u001b[1;32m      6\u001b[0m     \u001b[0;32mreturn\u001b[0m \u001b[0mmodel\u001b[0m\u001b[0;34m.\u001b[0m\u001b[0mpredict\u001b[0m\u001b[0;34m(\u001b[0m\u001b[0mX\u001b[0m\u001b[0;34m)\u001b[0m\u001b[0;34m\u001b[0m\u001b[0m\n\u001b[1;32m      7\u001b[0m \u001b[0;34m\u001b[0m\u001b[0m\n\u001b[0;32m----> 8\u001b[0;31m \u001b[0mmain_obj\u001b[0m \u001b[0;34m=\u001b[0m \u001b[0mWrapper\u001b[0m\u001b[0;34m(\u001b[0m\u001b[0;34m)\u001b[0m\u001b[0;34m\u001b[0m\u001b[0m\n\u001b[0m\u001b[1;32m      9\u001b[0m \u001b[0mimported_data\u001b[0m \u001b[0;34m=\u001b[0m \u001b[0mmain_obj\u001b[0m\u001b[0;34m.\u001b[0m\u001b[0mimport_data\u001b[0m\u001b[0;34m(\u001b[0m\u001b[0mfolder_name\u001b[0m\u001b[0;34m=\u001b[0m\u001b[0;34m'../../../../Desktop/LBNL/Data/'\u001b[0m\u001b[0;34m,\u001b[0m \u001b[0mhead_row\u001b[0m\u001b[0;34m=\u001b[0m\u001b[0;34m[\u001b[0m\u001b[0;36m5\u001b[0m\u001b[0;34m,\u001b[0m\u001b[0;36m5\u001b[0m\u001b[0;34m,\u001b[0m\u001b[0;36m0\u001b[0m\u001b[0;34m]\u001b[0m\u001b[0;34m)\u001b[0m\u001b[0;34m\u001b[0m\u001b[0m\n\u001b[1;32m     10\u001b[0m \u001b[0;31m# imported_data = main_obj.import_data(folder_name='../data/', head_row=[5,5,0])\u001b[0m\u001b[0;34m\u001b[0m\u001b[0;34m\u001b[0m\u001b[0m\n",
      "\u001b[0;31mTypeError\u001b[0m: 'module' object is not callable"
     ]
    }
   ],
   "source": [
    "def func(X, y):\n",
    "    from sklearn.linear_model import LinearRegression\n",
    "    from sklearn.model_selection import cross_val_score\n",
    "    model = LinearRegression()\n",
    "    model.fit(X, y)\n",
    "    return model.predict(X)\n",
    "\n",
    "main_obj = Wrapper()\n",
    "imported_data = main_obj.import_data(folder_name='../../../../Desktop/LBNL/Data/', head_row=[5,5,0])\n",
    "# imported_data = main_obj.import_data(folder_name='../data/', head_row=[5,5,0])\n",
    "cleaned_data = main_obj.clean_data(imported_data, high_bound=9998,\n",
    "                                rename_col=['OAT','RelHum_Avg', 'CHW_Elec', 'Elec', 'Gas', 'HW_Heat'],\n",
    "                                drop_col='Elec')\n",
    "preprocessed_data = main_obj.preprocess_data(cleaned_data, week=True, tod=True, var_to_expand=['tod','week'])\n",
    "main_obj.model(preprocessed_data, dep_col='HW_Heat', alphas=np.logspace(-4,1,5), figsize=(18,5),\n",
    "               time_period=[\"2014-01\",\"2014-12\", \"2015-01\",\"2015-12\", \"2016-01\",\"2016-12\"],\n",
    "               cv=5,\n",
    "               exclude_time_period=['2014-06', '2014-07'],\n",
    "               custom_model_func=func)\n",
    "main_obj.write_json()"
   ]
  },
  {
   "cell_type": "code",
   "execution_count": 37,
   "metadata": {},
   "outputs": [],
   "source": [
    "# imported_data[\"Building 15 - HW (thm/hour)\"].resample(\"1d\").mean().plot(figsize=(18,5))"
   ]
  },
  {
   "cell_type": "markdown",
   "metadata": {},
   "source": [
    "## InfluxDB"
   ]
  },
  {
   "cell_type": "code",
   "execution_count": null,
   "metadata": {},
   "outputs": [],
   "source": [
    "# database = 'pyTestDB'\n",
    "# measurement = 'SkySpark_Power'\n",
    "# tags_list = ['Building_Number']\n",
    "# values_list = ['30_1']\n",
    "# client = Influx_Dataframe_Client('./cloud_server.ini')\n",
    "\n",
    "# query1 = client.specific_query(database, measurement, tags=tags_list, values=values_list,\n",
    "#                                 start_time='2017-08-01 00:00:00', end_time='2018-07-31 00:00:00')\n",
    "# query2 = client.specific_query(database, measurement='Outdoor_Air_Temperature',\n",
    "#                                 start_time='2017-08-01 00:00:00', end_time='2018-07-31 00:00:00')"
   ]
  },
  {
   "cell_type": "code",
   "execution_count": null,
   "metadata": {},
   "outputs": [],
   "source": [
    "# df = query1.copy()\n",
    "# df = df.join(query2, how='outer')\n",
    "# df.plot()"
   ]
  },
  {
   "cell_type": "code",
   "execution_count": null,
   "metadata": {},
   "outputs": [],
   "source": [
    "# main_obj = Wrapper()\n",
    "# cleaned_data = main_obj.clean_data(df, rename_col=['Power', 'OAT'])\n",
    "# preprocessed_data = main_obj.preprocess_data(cleaned_data, col_degree=['OAT'], degree=[2], \n",
    "#                                           month=True, week=True, var_to_expand=['month', 'week'])\n",
    "\n",
    "# main_obj.model(preprocessed_data, dep_col='Power', time_period=[\"2017-08\", \"2018-07\"], alphas=np.logspace(-4,1,5))\n",
    "# main_obj.write_json()"
   ]
  },
  {
   "cell_type": "code",
   "execution_count": null,
   "metadata": {},
   "outputs": [],
   "source": []
  }
 ],
 "metadata": {
  "kernelspec": {
   "display_name": "Python 3",
   "language": "python",
   "name": "python3"
  },
  "language_info": {
   "codemirror_mode": {
    "name": "ipython",
    "version": 3
   },
   "file_extension": ".py",
   "mimetype": "text/x-python",
   "name": "python",
   "nbconvert_exporter": "python",
   "pygments_lexer": "ipython3",
   "version": "3.6.4"
  }
 },
 "nbformat": 4,
 "nbformat_minor": 2
}
