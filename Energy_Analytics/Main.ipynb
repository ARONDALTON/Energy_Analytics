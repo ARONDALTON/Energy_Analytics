{
 "cells": [
  {
   "cell_type": "code",
   "execution_count": 1,
   "metadata": {},
   "outputs": [],
   "source": [
    "import pandas as pd\n",
    "import configparser\n",
    "import matplotlib.pyplot as plt\n",
    "%matplotlib inline\n",
    "\n",
    "from Wrapper import *\n",
    "from Influx_Dataframe_Client import Influx_Dataframe_Client"
   ]
  },
  {
   "cell_type": "markdown",
   "metadata": {},
   "source": [
    "# Data Sources"
   ]
  },
  {
   "cell_type": "markdown",
   "metadata": {},
   "source": [
    "## csv files"
   ]
  },
  {
   "cell_type": "code",
   "execution_count": 2,
   "metadata": {
    "scrolled": false
   },
   "outputs": [],
   "source": [
    "# main_obj = Wrapper()\n",
    "# main_obj.read_json(file_name='input_csv.json')\n",
    "# main_obj.search(file_name='input_csv.json')"
   ]
  },
  {
   "cell_type": "code",
   "execution_count": 3,
   "metadata": {},
   "outputs": [],
   "source": [
    "# def func(X, y):\n",
    "#     from sklearn.linear_model import LinearRegression\n",
    "#     from sklearn.model_selection import cross_val_score\n",
    "#     model = LinearRegression()\n",
    "#     model.fit(X, y)\n",
    "#     return model.predict(X)\n",
    "\n",
    "# main_obj = Wrapper()\n",
    "\n",
    "# imported_data = main_obj.import_data(folder_name='../data/', head_row=[5,5,0], \n",
    "#                                      save_file=False)\n",
    "\n",
    "# cleaned_data = main_obj.clean_data(imported_data, high_bound=9998,\n",
    "#                                 rename_col=['OAT','RelHum_Avg', 'CHW_Elec', 'Elec', 'Gas', 'HW_Heat'],\n",
    "#                                 drop_col='Elec',\n",
    "#                                 save_file=False)\n",
    "\n",
    "# preprocessed_data = main_obj.preprocess_data(cleaned_data, week=True, tod=True, \n",
    "#                                             normalize=True,\n",
    "#                                             save_file=False)\n",
    "\n",
    "# main_obj.model(preprocessed_data, dep_col='HW_Heat', alphas=np.logspace(-4,1,5), figsize=(18,5),\n",
    "#                 time_period=[\"2014-01\",\"2014-12\", \"2015-01\",\"2015-12\", \"2016-01\",\"2016-12\"],\n",
    "#                 cv=5,\n",
    "#                 exclude_time_period=['2014-06', '2014-07'],\n",
    "#                 custom_model_func=func)\n",
    "# main_obj.write_json()"
   ]
  },
  {
   "cell_type": "markdown",
   "metadata": {},
   "source": [
    "## InfluxDB"
   ]
  },
  {
   "cell_type": "code",
   "execution_count": 4,
   "metadata": {},
   "outputs": [],
   "source": [
    "# database = 'pyTestDB'\n",
    "# measurement = 'SkySpark_Power'\n",
    "# tags_list = ['Building_Number']\n",
    "# values_list = ['30_1']\n",
    "# client = Influx_Dataframe_Client('./cloud_server.ini')\n",
    "\n",
    "# query1 = client.specific_query(database, measurement, tags=tags_list, values=values_list,\n",
    "#                                 start_time='2017-08-01 00:00:00', end_time='2018-07-31 00:00:00')\n",
    "# query2 = client.specific_query(database, measurement='Outdoor_Air_Temperature',\n",
    "#                                 start_time='2017-08-01 00:00:00', end_time='2018-07-31 00:00:00')"
   ]
  },
  {
   "cell_type": "code",
   "execution_count": 5,
   "metadata": {},
   "outputs": [],
   "source": [
    "# df = query1.copy()\n",
    "# df = df.join(query2, how='outer')\n",
    "# df.plot()"
   ]
  },
  {
   "cell_type": "code",
   "execution_count": 6,
   "metadata": {},
   "outputs": [],
   "source": [
    "# main_obj = Wrapper()\n",
    "# cleaned_data = main_obj.clean_data(df, rename_col=['Power', 'OAT'])\n",
    "# preprocessed_data = main_obj.preprocess_data(cleaned_data, col_degree=['OAT'], degree=[2], \n",
    "#                                           month=True, week=True)\n",
    "# main_obj.model(preprocessed_data, dep_col='Power', time_period=[\"2017-08\", \"2018-07\"], alphas=np.logspace(-4,1,5))\n",
    "# main_obj.write_json()"
   ]
  },
  {
   "cell_type": "code",
   "execution_count": null,
   "metadata": {},
   "outputs": [],
   "source": []
  }
 ],
 "metadata": {
  "kernelspec": {
   "display_name": "Python 3.6",
   "language": "python",
   "name": "python3"
  },
  "language_info": {
   "codemirror_mode": {
    "name": "ipython",
    "version": 3
   },
   "file_extension": ".py",
   "mimetype": "text/x-python",
   "name": "python",
   "nbconvert_exporter": "python",
   "pygments_lexer": "ipython3",
   "version": "3.6.6"
  }
 },
 "nbformat": 4,
 "nbformat_minor": 2
}
